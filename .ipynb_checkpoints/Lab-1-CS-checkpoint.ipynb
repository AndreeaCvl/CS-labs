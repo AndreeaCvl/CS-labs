{
 "cells": [
  {
   "cell_type": "markdown",
   "id": "4526ff7b",
   "metadata": {},
   "source": [
    "# Topic: Intro to Cryptography. Classical ciphers. Caesar cipher."
   ]
  },
  {
   "cell_type": "markdown",
   "id": "f77146d4",
   "metadata": {},
   "source": [
    "## 1. Caesar cipher with one key used for substitution\n"
   ]
  },
  {
   "cell_type": "markdown",
   "id": "a3094167",
   "metadata": {},
   "source": [
    "The function <b>encrypt</b> is used for encrypting the message. Takes the message and the shift as arguments and replaces the characters in the original message with characters located at distance s (to the right) from them. <br>\n",
    "The function <b>decrypt</b> is used for decrypting the message. Takes the encoded message and the shift as arguments and replaces the characters in the encoded message with characters located at distance s (to the left) from them. <br>"
   ]
  },
  {
   "cell_type": "code",
   "execution_count": 1,
   "id": "278c63f8",
   "metadata": {},
   "outputs": [],
   "source": [
    "class CaesarSubst:\n",
    "    # define a Caesar class which will containt the encryption function for Caesar cipher with one key used for substitution\n",
    "\n",
    "    def __init__(self):\n",
    "        \"\"\"\n",
    "            The constructor of the class\n",
    "        \"\"\"\n",
    "    \n",
    "    def encrypt(self, message, s):\n",
    "        \"\"\"\n",
    "            The function for encoding\n",
    "                :param message: string\n",
    "                    The message to be encoded\n",
    "                :param s: integer\n",
    "                    The shift\n",
    "                :return: string\n",
    "                    The encoded message\n",
    "        \"\"\"\n",
    "        \n",
    "        result = \"\"\n",
    "  \n",
    "        # traverse text\n",
    "        for i in range(len(message)):\n",
    "            c = message[i]\n",
    "\n",
    "            # Encryption of uppercase characters\n",
    "            if (c.isupper()):\n",
    "                result += chr((ord(c) + s - ord('A')) % 26 + ord('A'))\n",
    "\n",
    "            # Encryption of lowercase characters\n",
    "            elif (c.islower()):\n",
    "                result += chr((ord(c) + s - ord('a')) % 26 + ord('a'))\n",
    "            \n",
    "            # Other characters which are not letters remain the same \n",
    "            else:\n",
    "                result += c\n",
    "                \n",
    "        return result\n",
    "    \n",
    "    \n",
    "    def decrypt(self, message, s):  \n",
    "        \"\"\"\n",
    "            The function for decoding\n",
    "                :param message: string\n",
    "                    The message to be decoded\n",
    "                :param s: integer\n",
    "                    The shift\n",
    "                :return: string\n",
    "                    The decoded message\n",
    "        \"\"\"\n",
    "\n",
    "        result = \"\"\n",
    "  \n",
    "        # traverse text\n",
    "        for i in range(len(message)):\n",
    "            c = message[i]\n",
    "\n",
    "            # Decryption of upper characters\n",
    "            if (c.isupper()):\n",
    "                result += chr((ord(c) - ord(\"A\") - s) % 26 + ord('A'))\n",
    "            \n",
    "            # Decryption of lower characters\n",
    "            elif (c.islower()):\n",
    "                result += chr((ord(c) - ord(\"a\") - s) % 26 + ord('a'))\n",
    "            \n",
    "            # Other characters which are not letters remain the same \n",
    "            else:\n",
    "                result += c\n",
    "                \n",
    "        return result\n"
   ]
  },
  {
   "cell_type": "markdown",
   "id": "514edc1f",
   "metadata": {},
   "source": [
    "## 2. Caesar cipher with one key used for substitution, and a permutation of the alphabet"
   ]
  },
  {
   "cell_type": "markdown",
   "id": "81b606f4",
   "metadata": {},
   "source": [
    "Has an additional function which is not in simple Caesar - <b>alpha_permutation</b> which shuffles the alphabet. The <b>encrypt</b> and <b>decrypt</b> functions work in the same way as specified above for the simple Caesar."
   ]
  },
  {
   "cell_type": "code",
   "execution_count": 2,
   "id": "8255b097",
   "metadata": {},
   "outputs": [],
   "source": [
    "# important imports\n",
    "import random # will shuffle the alphabet"
   ]
  },
  {
   "cell_type": "code",
   "execution_count": 3,
   "id": "5eca7f19",
   "metadata": {},
   "outputs": [],
   "source": [
    "class CaesarWithPermutation:\n",
    "    # define a Caesar class which will containt the encryption function for Caesar cipher with one key used for substitution\n",
    "\n",
    "    def __init__(self):\n",
    "        \"\"\"\n",
    "            The constructor of the class\n",
    "        \"\"\"\n",
    "        \n",
    "    def alpha_permutation(self):\n",
    "        # creates a permutation of the alphabet\n",
    "        \n",
    "        # initial alphaet order\n",
    "        alphabet = 'abcdefghijklmnopqrstuvwxyz'\n",
    "        \n",
    "        self.new_alphabet = ''\n",
    "        \n",
    "        # shuffles the initial alphabet\n",
    "        self.new_alphabet = ''.join(random.sample(alphabet,len(alphabet)))\n",
    "        \n",
    "        # creates an alphabet with uppercase letters only\n",
    "        self.upper_alphabet = self.new_alphabet.upper()\n",
    "        \n",
    "    def encrypt(self, message, s):\n",
    "        \"\"\"\n",
    "            The function for encoding\n",
    "                :param message: string\n",
    "                    The message to be encoded\n",
    "                :param s: integer\n",
    "                    The shift\n",
    "                :return: string\n",
    "                    The encoded message\n",
    "        \"\"\"\n",
    "        \n",
    "        result = \"\"\n",
    "  \n",
    "        # traverse text\n",
    "        for i in range(len(message)):\n",
    "            c = message[i]\n",
    "\n",
    "            # Encryption of uppercase characters\n",
    "            if (c.isupper()):\n",
    "                idx = self.upper_alphabet.index(c)\n",
    "                result += self.upper_alphabet[(idx + s) % 26]\n",
    "\n",
    "            # Encryption of lowercase characters\n",
    "            elif (c.islower()):\n",
    "                idx = self.new_alphabet.index(c)\n",
    "                result += self.new_alphabet[(idx + s) % 26]\n",
    "            \n",
    "            # Other characters which are not letters remain the same \n",
    "            else:\n",
    "                result += c\n",
    "                \n",
    "        return result\n",
    "    \n",
    "    \n",
    "    def decrypt(self, message, s):  \n",
    "        \"\"\"\n",
    "            The function for decoding\n",
    "                :param message: string\n",
    "                    The message to be decoded\n",
    "                :param s: integer\n",
    "                    The shift\n",
    "                :return: string\n",
    "                    The decoded message\n",
    "        \"\"\"\n",
    "\n",
    "        result = \"\"\n",
    "  \n",
    "        # traverse text\n",
    "        for i in range(len(message)):\n",
    "            c = message[i]\n",
    "\n",
    "            # Decryption of upper characters\n",
    "            if (c.isupper()):\n",
    "                idx = self.upper_alphabet.index(c)\n",
    "                result += self.upper_alphabet[(idx - s) % 26]\n",
    "            \n",
    "            # Decryption of lower characters\n",
    "            elif (c.islower()):\n",
    "                idx = self.new_alphabet.index(c)\n",
    "                result += self.new_alphabet[(idx - s) % 26]\n",
    "            \n",
    "            # Other characters which are not letters remain the same \n",
    "            else:\n",
    "                result += c\n",
    "                \n",
    "        return result\n"
   ]
  },
  {
   "cell_type": "markdown",
   "id": "eac22ae9",
   "metadata": {},
   "source": [
    "## 3. Vigenere cipher"
   ]
  },
  {
   "cell_type": "markdown",
   "id": "700e3d57",
   "metadata": {},
   "source": [
    "Has an <b>encrypt</b> function used for encrypting messages. It has a call to <b>new_key</b> function, which creates a key of the same length as the message to be encoded by repeating (or omiting) characters from the original key. Then the encrypt function encrypts the message using the Vigenere matrix which is built when initializing the class. \n",
    "<b>decrypt</b> does the opposite. Also has a call to <b>new_key</b>, and then it looks for the encoded character in the matrix and then finds its original value."
   ]
  },
  {
   "cell_type": "code",
   "execution_count": 4,
   "id": "a56d36f1",
   "metadata": {},
   "outputs": [],
   "source": [
    "class Vigenere:\n",
    "    \n",
    "    def __init__(self):\n",
    "        \"\"\"\n",
    "            The constructor of the class\n",
    "        \"\"\"\n",
    "         # initializing the Vigenere matrix\n",
    "        self.matrix = [[chr(ord('A') + (i + j) % 26) for i in range(26)] for j in range(26)]\n",
    "        \n",
    "    def new_key(self, message, key):\n",
    "        \"\"\"\n",
    "            The function for creating a key of the same length as the message\n",
    "                :param message: string\n",
    "                    The message to be encoded or decoded\n",
    "                :param key: string\n",
    "                    The used key\n",
    "                :return: string\n",
    "                    The key which would be used further\n",
    "        \"\"\"\n",
    "        \n",
    "        # converting the string key to a list for convenience\n",
    "        key = list(key)\n",
    "        \n",
    "        # repeating the key if needed\n",
    "        if len(message) == len(key):\n",
    "            return key\n",
    "        else:\n",
    "            for i in range(len(message) - len(key)):\n",
    "                key.append(key[i % len(key)])\n",
    "            return \"\" . join(key)  \n",
    "        \n",
    "    def encrypt(self, message, key):\n",
    "        \"\"\"\n",
    "            The function for encrypting the message\n",
    "                :param message: string\n",
    "                    The message to be encoded \n",
    "                :param key: string\n",
    "                    The used key\n",
    "                :return: string\n",
    "                    The encoded message\n",
    "        \"\"\"\n",
    "\n",
    "        # obtaining a key of the same length as the message\n",
    "        key = self.new_key(message, key)\n",
    "        \n",
    "        result = ''\n",
    "        \n",
    "        # mapping chars form the message string with chars from the key using the Vigenere matrix\n",
    "        for k in range(len(message)):\n",
    "            \n",
    "            row = ord(message[k]) - ord('A')\n",
    "            col = ord(key[k]) - ord('A')\n",
    "                        \n",
    "            result += self.matrix[row][col]\n",
    "        \n",
    "        return result\n",
    "    \n",
    "    \n",
    "    def decrypt(self, message, key):\n",
    "        \"\"\"\n",
    "            The function for decrypting the message\n",
    "                :param message: string\n",
    "                    The message to be decoded \n",
    "                :param key: string\n",
    "                    The used key\n",
    "                :return: string\n",
    "                    The decoded message\n",
    "        \"\"\"\n",
    "        \n",
    "        # obtaining a key of the same length as the message\n",
    "        key = self.new_key(message, key)\n",
    "        \n",
    "        result = ''\n",
    "        \n",
    "        # mapping chars form the message string with chars from the key using the Vigenere matrix\n",
    "        for k in range(len(message)):\n",
    "            \n",
    "            row = ord(key[k]) - ord('A')\n",
    "            \n",
    "            # finding the column in the needed row where the k-th letter from the encoded message is located\n",
    "            for i in range(len(self.matrix)):\n",
    "                if self.matrix[row][i] == message[k]:\n",
    "                    col = i\n",
    "                        \n",
    "            result += self.matrix[col][0]\n",
    "        \n",
    "        return result \n"
   ]
  },
  {
   "cell_type": "markdown",
   "id": "798ba665",
   "metadata": {},
   "source": [
    "## 4. Playfair cipher"
   ]
  },
  {
   "cell_type": "markdown",
   "id": "fa7704d8",
   "metadata": {},
   "source": [
    "<b>encrypt</b> and <b>decrypt</b> functions work in very similar ways. First, there is a call to <b>build_matrix</b> function, which creates the playfair matrix according to the given key. Then, <b>digraphs</b> is called for creating pairs of characters. It adds a 'X' in pairs where the characters are the same, and if  the last character doesn't have a pair, it adds 'Z' in the end of the string. <br> <b>row_rule</b>, <b>row_rule</b> and <b>rectangle_rule</b> encode the message according to the rules of Playfair cipher. <b>row_rule_dec</b> and <b>col_rule_dec</b> decode the message by doing the opposite action of the original functions. (if in the <b>row_rule</b> and <b>col_rule</b> we look for characters in the last row/column as an edge case, in <b>row_rule_dec</b> and <b>col_rule_dec</b> we look at the characters located in the first row/col). <b>rectangle_rule</b> function can be used both for encryption and decryption, as it works in the same way."
   ]
  },
  {
   "cell_type": "code",
   "execution_count": 5,
   "id": "a9a25368",
   "metadata": {},
   "outputs": [],
   "source": [
    "import numpy as np"
   ]
  },
  {
   "cell_type": "code",
   "execution_count": 6,
   "id": "56730cb7",
   "metadata": {},
   "outputs": [],
   "source": [
    "class Playfair:\n",
    "    \n",
    "    def __init__(self):\n",
    "        \"\"\"\n",
    "            The constructor of the class\n",
    "        \"\"\"\n",
    "        \n",
    "    def build_matrix(self, key):\n",
    "        \n",
    "        \"\"\"\n",
    "            Constructs the Playfair matrix\n",
    "                :param key: string\n",
    "                    The key of the cipher\n",
    "        \"\"\"\n",
    "        \n",
    "        # empty list for keeping the letters in order as they are added in the matrix\n",
    "        letters = []\n",
    "        \n",
    "        # adding unique letters from the key to the list of letters\n",
    "        for i in range(len(key)):\n",
    "            if key[i] not in letters:\n",
    "                letters.append(key[i])\n",
    "                \n",
    "        # initializing i with the index of the first leter of alphabet in unicode\n",
    "        i = ord('A')\n",
    "        \n",
    "        # building a list with all letters (except J), arranged in order of their appearence\n",
    "        while len(letters) < 25:\n",
    "            if chr(i) not in letters:\n",
    "                if chr(i) != 'J':\n",
    "                    letters.append(chr(i))\n",
    "            i += 1\n",
    "        \n",
    "        # defining a new shape for the list\n",
    "        shape = (5,5)\n",
    "        \n",
    "        # reshaping the list of letters into a 5x5 matrix\n",
    "        x = np.array(letters)\n",
    "        self.matrix = x.reshape(shape)\n",
    "        \n",
    "    \n",
    "    def digraphs(self, message):\n",
    "        \"\"\"\n",
    "            Identifies pairs of characters\n",
    "                :param message: string\n",
    "                    The message to be encoded\n",
    "        \"\"\"\n",
    "        \n",
    "        # empty list for storing the digraphs\n",
    "        digraphs = []\n",
    "        \n",
    "        # iterating trough the letters of the message and creatinf pairs\n",
    "        while len(message) > 1:\n",
    "            \n",
    "            if message[0] != message[1]:\n",
    "                \n",
    "                # pairing different letters\n",
    "                s = message[0] + message[1]\n",
    "                message = message[2:]\n",
    "            else:\n",
    "                \n",
    "                # Adding bogus letters where needed\n",
    "                s = message[0] + 'X'\n",
    "                message = message[1:]\n",
    "            \n",
    "            # appending the resulted pair to the list\n",
    "            digraphs.append(s)\n",
    "        \n",
    "        # in case a character remains unpaired, add Z at the end\n",
    "        if len(message) == 1:\n",
    "            s = message + 'Z'\n",
    "            digraphs.append(s)\n",
    "                \n",
    "        return digraphs\n",
    "    \n",
    "    def row_rule(self, r0, c0, r1, c1):\n",
    "        \"\"\"\n",
    "            Encode message according to row rule\n",
    "                :param r0: int\n",
    "                    row of the first character in pair\n",
    "                :param  c0: int \n",
    "                    column of the first character in pair\n",
    "                :param r1: int\n",
    "                    row of the second character in pair\n",
    "                :param c1: int\n",
    "                    column of the first character in pair\n",
    "                :return: string\n",
    "                    pair of encoded characters\n",
    "        \"\"\"\n",
    "        \n",
    "        # if first character in the last column\n",
    "        if c0 == 4:\n",
    "            p0 = self.matrix[r0][0]\n",
    "        else:\n",
    "            p0 = self.matrix[r0][c0+1]\n",
    "            \n",
    "        # if second character in the last column\n",
    "        if c1 == 4:\n",
    "            p1 = self.matrix[r1][0]\n",
    "        else:\n",
    "            p1 = self.matrix[r1][c1+1]\n",
    "        \n",
    "        return p0 + p1\n",
    "    \n",
    "    def col_rule(self, r0, c0, r1, c1):\n",
    "        \"\"\"\n",
    "            Encode message according to column rule\n",
    "        \"\"\"\n",
    "        if r0 == 4:\n",
    "            p0 = self.matrix[0][c0]\n",
    "        else:\n",
    "            p0 = self.matrix[r0 + 1][c0]\n",
    "            \n",
    "        if r1 == 4:\n",
    "            p1 = self.matrix[0][c1]\n",
    "        else:\n",
    "            p1 = self.matrix[r1 + 1][c1]\n",
    "        \n",
    "        return p0 + p1\n",
    "\n",
    "    def rectangle_rule(self, r0, c0, r1, c1):\n",
    "        \"\"\"\n",
    "            Encode / decode message according to rectangle rule\n",
    "        \"\"\"\n",
    "        p0 = self.matrix[r0][c1]\n",
    "        p1 = self.matrix[r1][c0]\n",
    "        \n",
    "        return p0 + p1\n",
    "    \n",
    "    def row_rule_dec(self, r0, c0, r1, c1):\n",
    "        \"\"\"\n",
    "            decode message according to row rule\n",
    "        \"\"\"\n",
    "        if c0 == 0:\n",
    "            p0 = self.matrix[r0][4]\n",
    "        else:\n",
    "            p0 = self.matrix[r0][c0-1]\n",
    "            \n",
    "        if c1 == 0:\n",
    "            p1 = self.matrix[r1][4]\n",
    "        else:\n",
    "            p1 = self.matrix[r1][c1-1]\n",
    "        \n",
    "        return p0 + p1\n",
    "    \n",
    "    \n",
    "    def col_rule_dec(self, r0, c0, r1, c1):\n",
    "        \"\"\"\n",
    "            Decode message according to column rule\n",
    "        \"\"\"\n",
    "        if r0 == 0:\n",
    "            p0 = self.matrix[4][c0]\n",
    "        else:\n",
    "            p0 = self.matrix[r0 - 1][c0]\n",
    "            \n",
    "        if r1 == 0:\n",
    "            p1 = self.matrix[4][c1]\n",
    "        else:\n",
    "            p1 = self.matrix[r1 - 1][c1]\n",
    "        \n",
    "        return p0 + p1\n",
    "        \n",
    "        \n",
    "    def encrypt(self, message, key):\n",
    "        \"\"\"\n",
    "            Encrypts the given message with a specified key\n",
    "                :param message: string\n",
    "                    the message to be encoded\n",
    "                :param key: string\n",
    "                    the key of the cipher\n",
    "                :return: string\n",
    "                    the encoded message\n",
    "        \"\"\"\n",
    "        \n",
    "        # buiding the playfair matrix\n",
    "        self.build_matrix(key)\n",
    "        \n",
    "        # creating a set of digraphs\n",
    "        digraphs = self.digraphs(message)\n",
    "        \n",
    "        encoded = ''\n",
    "        \n",
    "        # getting the indices of each pair and finding the rule to follow\n",
    "        for element in digraphs:\n",
    "            \n",
    "            # indices of the first character in pair\n",
    "            ind0 = np.where(self.matrix == element[0])\n",
    "            row0 = ind0[0][0]\n",
    "            col0 = ind0[1][0]\n",
    "            \n",
    "            # indices of the second character in pair\n",
    "            ind1 = np.where(self.matrix == element[1])\n",
    "            row1 = ind1[0][0]\n",
    "            col1 = ind1[1][0]\n",
    "            \n",
    "            # calling the function with respect to the rule\n",
    "            if row0 == row1:\n",
    "                encoded += self.row_rule(row0, col0, row1, col1)\n",
    "            elif col0 == col1:\n",
    "                encoded += self.col_rule(row0, col0, row1, col1)\n",
    "            else:\n",
    "                encoded += self.rectangle_rule(row0, col0, row1, col1)\n",
    "        \n",
    "        return encoded\n",
    "    \n",
    "    def decrypt(self, enc_message, key):\n",
    "        \"\"\"\n",
    "            Decrypts the given message with a specified key\n",
    "                :param enc_message: string\n",
    "                    the message to be decoded\n",
    "                :param key: string\n",
    "                    the key of the cipher\n",
    "                :return: string\n",
    "                    the decoded message\n",
    "        \"\"\"\n",
    "        \n",
    "        # building the playfair matrix\n",
    "        self.build_matrix(key)\n",
    "        \n",
    "        # creating the set of digraphs\n",
    "        digraphs = self.digraphs(enc_message)\n",
    "        \n",
    "        decoded = ''\n",
    "        \n",
    "        # getting the indices of each pair and finding the rule to follow\n",
    "        for element in digraphs:\n",
    "            \n",
    "            # indices of the first character in pair\n",
    "            ind0 = np.where(self.matrix == element[0])\n",
    "            row0 = ind0[0][0]\n",
    "            col0 = ind0[1][0]\n",
    "            \n",
    "            # indices of the second character in pair\n",
    "            ind1 = np.where(self.matrix == element[1])\n",
    "            row1 = ind1[0][0]\n",
    "            col1 = ind1[1][0]\n",
    "            \n",
    "            # calling the function with respect to the rule\n",
    "            if row0 == row1:\n",
    "                decoded += self.row_rule_dec(row0, col0, row1, col1)\n",
    "            elif col0 == col1:\n",
    "                decoded += self.col_rule_dec(row0, col0, row1, col1)\n",
    "            else:\n",
    "                decoded += self.rectangle_rule(row0, col0, row1, col1)\n",
    "        \n",
    "        return decoded\n"
   ]
  },
  {
   "cell_type": "markdown",
   "id": "4fc0a593",
   "metadata": {},
   "source": [
    "## Testing the algorithms"
   ]
  },
  {
   "cell_type": "code",
   "execution_count": 7,
   "id": "cc565160",
   "metadata": {},
   "outputs": [],
   "source": [
    "# string which will be encoded\n",
    "t1 = \"This is a test!\"\n",
    "t2 = \"Another String for Testing the Algorithms...\""
   ]
  },
  {
   "cell_type": "markdown",
   "id": "4656561b",
   "metadata": {},
   "source": [
    "### Caesar cipher with one key used for substitution"
   ]
  },
  {
   "cell_type": "code",
   "execution_count": 8,
   "id": "012b2b1f",
   "metadata": {},
   "outputs": [],
   "source": [
    "# initializing the class\n",
    "test_1 = CaesarSubst()"
   ]
  },
  {
   "cell_type": "code",
   "execution_count": 9,
   "id": "9430761f",
   "metadata": {
    "scrolled": true
   },
   "outputs": [
    {
     "name": "stdout",
     "output_type": "stream",
     "text": [
      "Ymnx nx f yjxy!\n",
      "Zmnsgdq Rsqhmf enq Sdrshmf sgd Zkfnqhsglr...\n"
     ]
    }
   ],
   "source": [
    "# encryption\n",
    "e1 = test_1.encrypt(t1, 5)\n",
    "print(e1)\n",
    "e2 = test_1.encrypt(t2, 25)\n",
    "print(e2)"
   ]
  },
  {
   "cell_type": "code",
   "execution_count": 10,
   "id": "f4e642d2",
   "metadata": {},
   "outputs": [
    {
     "name": "stdout",
     "output_type": "stream",
     "text": [
      "This is a test!\n",
      "Another String for Testing the Algorithms...\n"
     ]
    }
   ],
   "source": [
    "# decryption\n",
    "d1 = test_1.decrypt(e1, 5)\n",
    "print(d1)\n",
    "d2 = test_1.decrypt(e2, 25)\n",
    "print(d2)"
   ]
  },
  {
   "cell_type": "markdown",
   "id": "1502cc78",
   "metadata": {},
   "source": [
    "### Caesar cipher with one key used for substitution, and a permutation of the alphabet"
   ]
  },
  {
   "cell_type": "code",
   "execution_count": 11,
   "id": "526e5701",
   "metadata": {},
   "outputs": [],
   "source": [
    "# initializing the class\n",
    "test_2 = CaesarWithPermutation()"
   ]
  },
  {
   "cell_type": "code",
   "execution_count": 12,
   "id": "5fc0149f",
   "metadata": {},
   "outputs": [
    {
     "name": "stdout",
     "output_type": "stream",
     "text": [
      "lqwmdfhixgjptcbskuezroynav\n"
     ]
    }
   ],
   "source": [
    "# creating a permutation of the alphabet\n",
    "test_2.alpha_permutation()\n",
    "# printing the obtained permutation of the alphabet\n",
    "print(test_2.new_alphabet)"
   ]
  },
  {
   "cell_type": "code",
   "execution_count": 13,
   "id": "9b0171c3",
   "metadata": {},
   "outputs": [
    {
     "name": "stdout",
     "output_type": "stream",
     "text": [
      "Uptr tr m unru!\n",
      "Yozjdke Cjefoi mze Jkcjfoi jdk Yaizefjdqc...\n"
     ]
    }
   ],
   "source": [
    "# encryption\n",
    "e1 = test_2.encrypt(t1, 5)\n",
    "print(e1)\n",
    "e2 = test_2.encrypt(t2, 24)\n",
    "print(e2)"
   ]
  },
  {
   "cell_type": "code",
   "execution_count": 14,
   "id": "5f52880d",
   "metadata": {},
   "outputs": [
    {
     "name": "stdout",
     "output_type": "stream",
     "text": [
      "This is a test!\n",
      "Another String for Testing the Algorithms...\n"
     ]
    }
   ],
   "source": [
    "# decryption\n",
    "d1 = test_2.decrypt(e1, 5)\n",
    "print(d1)\n",
    "d2 = test_2.decrypt(e2, 24)\n",
    "print(d2)"
   ]
  },
  {
   "cell_type": "markdown",
   "id": "1b080bc0",
   "metadata": {},
   "source": [
    "### Vigenere cipher"
   ]
  },
  {
   "cell_type": "code",
   "execution_count": 15,
   "id": "8373a5ef",
   "metadata": {},
   "outputs": [],
   "source": [
    "# initializing the test parameters\n",
    "t11 = 'THISISATEST'\n",
    "t12 = 'ANOTHERSTRINGFORTESTINGTHEALGORITHMS'\n",
    "key = \"TRAP\""
   ]
  },
  {
   "cell_type": "code",
   "execution_count": 16,
   "id": "84c9c9dd",
   "metadata": {},
   "outputs": [],
   "source": [
    "# initializing the class\n",
    "v = Vigenere()"
   ]
  },
  {
   "cell_type": "code",
   "execution_count": 17,
   "id": "4e3db669",
   "metadata": {},
   "outputs": [
    {
     "name": "stdout",
     "output_type": "stream",
     "text": [
      "MYIHBJAIXJT\n",
      "TEOIAVRHMIICZWOGMVSIBEGIAVAAZFRXMYMH\n"
     ]
    }
   ],
   "source": [
    "# encrypting the messages\n",
    "e1 = v.encrypt(t11, key)\n",
    "print(e1)\n",
    "e2 = v.encrypt(t12, key)\n",
    "print(e2)"
   ]
  },
  {
   "cell_type": "code",
   "execution_count": 18,
   "id": "ee356a1a",
   "metadata": {},
   "outputs": [
    {
     "name": "stdout",
     "output_type": "stream",
     "text": [
      "THISISATEST\n",
      "ANOTHERSTRINGFORTESTINGTHEALGORITHMS\n"
     ]
    }
   ],
   "source": [
    "# decrypting the above encrypted messages\n",
    "d1 = v.decrypt(e1, key)\n",
    "print(d1)\n",
    "d2 = v.decrypt(e2, key)\n",
    "print(d2)"
   ]
  },
  {
   "cell_type": "markdown",
   "id": "ca7d5e5b",
   "metadata": {},
   "source": [
    "### Playfair cipher"
   ]
  },
  {
   "cell_type": "code",
   "execution_count": 19,
   "id": "e64f6f8d",
   "metadata": {},
   "outputs": [],
   "source": [
    "# test values\n",
    "t11 = 'THISISATEST'\n",
    "t12 = 'ANOTHERSTRINGFORTESTINGTHEALGORITHMS'\n",
    "key = \"SUNRISE\""
   ]
  },
  {
   "cell_type": "code",
   "execution_count": 20,
   "id": "a0031dbb",
   "metadata": {},
   "outputs": [],
   "source": [
    "# initializing the class\n",
    "p = Playfair()"
   ]
  },
  {
   "cell_type": "code",
   "execution_count": 21,
   "id": "bb703abb",
   "metadata": {},
   "outputs": [
    {
     "name": "stdout",
     "output_type": "stream",
     "text": [
      "PLSUSUDOFEZI\n",
      "BUPMFBIUQISRHGQUMDIMSRLOFBDGOWISPLVE\n"
     ]
    }
   ],
   "source": [
    "# encryption\n",
    "e1 = p.encrypt(t11, key)\n",
    "print(e1)\n",
    "e2 = p.encrypt(t12, key)\n",
    "print(e2)"
   ]
  },
  {
   "cell_type": "code",
   "execution_count": 22,
   "id": "33228f59",
   "metadata": {},
   "outputs": [
    {
     "name": "stdout",
     "output_type": "stream",
     "text": [
      "THISISATESTZ\n",
      "ANOTHERSTRINGFORTESTINGTHEALGORITHMS\n"
     ]
    }
   ],
   "source": [
    "# decryption\n",
    "d1 = p.decrypt(e1, key)\n",
    "print(d1)\n",
    "d2 = p.decrypt(e2, key)\n",
    "print(d2)"
   ]
  },
  {
   "cell_type": "markdown",
   "id": "491b2770",
   "metadata": {},
   "source": [
    "### In conclusion, everything works as it is supposed."
   ]
  }
 ],
 "metadata": {
  "kernelspec": {
   "display_name": "Python 3 (ipykernel)",
   "language": "python",
   "name": "python3"
  },
  "language_info": {
   "codemirror_mode": {
    "name": "ipython",
    "version": 3
   },
   "file_extension": ".py",
   "mimetype": "text/x-python",
   "name": "python",
   "nbconvert_exporter": "python",
   "pygments_lexer": "ipython3",
   "version": "3.8.0"
  }
 },
 "nbformat": 4,
 "nbformat_minor": 5
}
