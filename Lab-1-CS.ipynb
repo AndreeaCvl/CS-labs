{
 "cells": [
  {
   "cell_type": "markdown",
   "id": "4526ff7b",
   "metadata": {},
   "source": [
    "# Topic: Intro to Cryptography. Classical ciphers. Caesar cipher."
   ]
  },
  {
   "cell_type": "markdown",
   "id": "f77146d4",
   "metadata": {},
   "source": [
    "## 1. Caesar cipher with one key used for substitution\n"
   ]
  },
  {
   "cell_type": "code",
   "execution_count": 1,
   "id": "278c63f8",
   "metadata": {},
   "outputs": [],
   "source": [
    "class CaesarSubst:\n",
    "    # define a Caesar class which will containt the encryption function for Caesar cipher with one key used for substitution\n",
    "\n",
    "    def __init__(self):\n",
    "        \"\"\"\n",
    "            The constructor of the class\n",
    "        \"\"\"\n",
    "    \n",
    "    def encrypt(self, message, s):\n",
    "        \"\"\"\n",
    "            The function for encoding\n",
    "                :param message: string\n",
    "                    The message to be encoded\n",
    "                :param s: integer\n",
    "                    The shift\n",
    "                :return: string\n",
    "                    The encoded message\n",
    "        \"\"\"\n",
    "        \n",
    "        result = \"\"\n",
    "  \n",
    "        # traverse text\n",
    "        for i in range(len(message)):\n",
    "            c = message[i]\n",
    "\n",
    "            # Encryption of uppercase characters\n",
    "            if (c.isupper()):\n",
    "                result += chr((ord(c) + s - ord('A')) % 26 + ord('A'))\n",
    "\n",
    "            # Encryption of lowercase characters\n",
    "            elif (c.islower()):\n",
    "                result += chr((ord(c) + s - ord('a')) % 26 + ord('a'))\n",
    "            \n",
    "            # Other characters which are not letters remain the same \n",
    "            else:\n",
    "                result += c\n",
    "                \n",
    "        return result\n",
    "    \n",
    "    \n",
    "    def decrypt(self, message, s):  \n",
    "        \"\"\"\n",
    "            The function for decoding\n",
    "                :param message: string\n",
    "                    The message to be decoded\n",
    "                :param s: integer\n",
    "                    The shift\n",
    "                :return: string\n",
    "                    The decoded message\n",
    "        \"\"\"\n",
    "\n",
    "        result = \"\"\n",
    "  \n",
    "        # traverse text\n",
    "        for i in range(len(message)):\n",
    "            c = message[i]\n",
    "\n",
    "            # Decryption of upper characters\n",
    "            if (c.isupper()):\n",
    "                result += chr((ord(c) - ord(\"A\") - s) % 26 + ord('A'))\n",
    "            \n",
    "            # Decryption of lower characters\n",
    "            elif (c.islower()):\n",
    "                result += chr((ord(c) - ord(\"a\") - s) % 26 + ord('a'))\n",
    "            \n",
    "            # Other characters which are not letters remain the same \n",
    "            else:\n",
    "                result += c\n",
    "                \n",
    "        return result\n"
   ]
  },
  {
   "cell_type": "markdown",
   "id": "514edc1f",
   "metadata": {},
   "source": [
    "## 2. Caesar cipher with one key used for substitution, and a permutation of the alphabet"
   ]
  },
  {
   "cell_type": "code",
   "execution_count": 2,
   "id": "8255b097",
   "metadata": {},
   "outputs": [],
   "source": [
    "# important imports\n",
    "import random # will shuffle the alphabet"
   ]
  },
  {
   "cell_type": "code",
   "execution_count": 3,
   "id": "5eca7f19",
   "metadata": {},
   "outputs": [],
   "source": [
    "class CaesarWithPermutation:\n",
    "    # define a Caesar class which will containt the encryption function for Caesar cipher with one key used for substitution\n",
    "\n",
    "    def __init__(self):\n",
    "        \"\"\"\n",
    "            The constructor of the class\n",
    "        \"\"\"\n",
    "        \n",
    "    def alpha_permutation(self):\n",
    "        # creates a permutation of the alphabet\n",
    "        \n",
    "        # initial alphaet order\n",
    "        alphabet = 'abcdefghijklmnopqrstuvwxyz'\n",
    "        \n",
    "        self.new_alphabet = ''\n",
    "        \n",
    "        # shuffles the initial alphabet\n",
    "        self.new_alphabet = ''.join(random.sample(alphabet,len(alphabet)))\n",
    "        \n",
    "        # creates an alphabet with uppercase letters only\n",
    "        self.upper_alphabet = self.new_alphabet.upper()\n",
    "        \n",
    "    def encrypt(self, message, s):\n",
    "        \"\"\"\n",
    "            The function for encoding\n",
    "                :param message: string\n",
    "                    The message to be encoded\n",
    "                :param s: integer\n",
    "                    The shift\n",
    "                :return: string\n",
    "                    The encoded message\n",
    "        \"\"\"\n",
    "        \n",
    "        result = \"\"\n",
    "  \n",
    "        # traverse text\n",
    "        for i in range(len(message)):\n",
    "            c = message[i]\n",
    "\n",
    "            # Encryption of uppercase characters\n",
    "            if (c.isupper()):\n",
    "                idx = self.upper_alphabet.index(c)\n",
    "                result += self.upper_alphabet[(idx + s) % 26]\n",
    "\n",
    "            # Encryption of lowercase characters\n",
    "            elif (c.islower()):\n",
    "                idx = self.new_alphabet.index(c)\n",
    "                result += self.new_alphabet[(idx + s) % 26]\n",
    "            \n",
    "            # Other characters which are not letters remain the same \n",
    "            else:\n",
    "                result += c\n",
    "                \n",
    "        return result\n",
    "    \n",
    "    \n",
    "    def decrypt(self, message, s):  \n",
    "        \"\"\"\n",
    "            The function for decoding\n",
    "                :param message: string\n",
    "                    The message to be decoded\n",
    "                :param s: integer\n",
    "                    The shift\n",
    "                :return: string\n",
    "                    The decoded message\n",
    "        \"\"\"\n",
    "\n",
    "        result = \"\"\n",
    "  \n",
    "        # traverse text\n",
    "        for i in range(len(message)):\n",
    "            c = message[i]\n",
    "\n",
    "            # Decryption of upper characters\n",
    "            if (c.isupper()):\n",
    "                idx = self.upper_alphabet.index(c)\n",
    "                result += self.upper_alphabet[(idx - s) % 26]\n",
    "            \n",
    "            # Decryption of lower characters\n",
    "            elif (c.islower()):\n",
    "                idx = self.new_alphabet.index(c)\n",
    "                result += self.new_alphabet[(idx - s) % 26]\n",
    "            \n",
    "            # Other characters which are not letters remain the same \n",
    "            else:\n",
    "                result += c\n",
    "                \n",
    "        return result\n"
   ]
  },
  {
   "cell_type": "markdown",
   "id": "eac22ae9",
   "metadata": {},
   "source": [
    "## 3. Vigenere cipher"
   ]
  },
  {
   "cell_type": "code",
   "execution_count": null,
   "id": "a56d36f1",
   "metadata": {},
   "outputs": [],
   "source": []
  },
  {
   "cell_type": "markdown",
   "id": "798ba665",
   "metadata": {},
   "source": [
    "## 4. Playfair cipher"
   ]
  },
  {
   "cell_type": "code",
   "execution_count": null,
   "id": "56730cb7",
   "metadata": {},
   "outputs": [],
   "source": []
  },
  {
   "cell_type": "markdown",
   "id": "4fc0a593",
   "metadata": {},
   "source": [
    "## Testing the algorithms"
   ]
  },
  {
   "cell_type": "code",
   "execution_count": 4,
   "id": "cc565160",
   "metadata": {},
   "outputs": [],
   "source": [
    "# string which will be encoded\n",
    "t1 = \"This is a test!\"\n",
    "t2 = \"Another String for Testing the Algorithms...\""
   ]
  },
  {
   "cell_type": "markdown",
   "id": "4656561b",
   "metadata": {},
   "source": [
    "### Caesar cipher with one key used for substitution"
   ]
  },
  {
   "cell_type": "code",
   "execution_count": 5,
   "id": "012b2b1f",
   "metadata": {},
   "outputs": [],
   "source": [
    "# initializing the class\n",
    "test_1 = CaesarSubst()"
   ]
  },
  {
   "cell_type": "code",
   "execution_count": 6,
   "id": "9430761f",
   "metadata": {
    "scrolled": true
   },
   "outputs": [
    {
     "name": "stdout",
     "output_type": "stream",
     "text": [
      "Ymnx nx f yjxy!\n",
      "Zmnsgdq Rsqhmf enq Sdrshmf sgd Zkfnqhsglr...\n"
     ]
    }
   ],
   "source": [
    "# encryption\n",
    "e1 = test_1.encrypt(t1, 5)\n",
    "print(e1)\n",
    "e2 = test_1.encrypt(t2, 25)\n",
    "print(e2)"
   ]
  },
  {
   "cell_type": "code",
   "execution_count": 7,
   "id": "f4e642d2",
   "metadata": {},
   "outputs": [
    {
     "name": "stdout",
     "output_type": "stream",
     "text": [
      "This is a test!\n",
      "Another String for Testing the Algorithms...\n"
     ]
    }
   ],
   "source": [
    "# decryption\n",
    "d1 = test_1.decrypt(e1, 5)\n",
    "print(d1)\n",
    "d2 = test_1.decrypt(e2, 25)\n",
    "print(d2)"
   ]
  },
  {
   "cell_type": "markdown",
   "id": "1502cc78",
   "metadata": {},
   "source": [
    "### Caesar cipher with one key used for substitution, and a permutation of the alphabet"
   ]
  },
  {
   "cell_type": "code",
   "execution_count": 8,
   "id": "526e5701",
   "metadata": {},
   "outputs": [],
   "source": [
    "# initializing the class\n",
    "test_2 = CaesarWithPermutation()"
   ]
  },
  {
   "cell_type": "code",
   "execution_count": 9,
   "id": "5fc0149f",
   "metadata": {},
   "outputs": [
    {
     "name": "stdout",
     "output_type": "stream",
     "text": [
      "tzdmbsnaqpivorceguylkjwxfh\n"
     ]
    }
   ],
   "source": [
    "# creating a permutation of the alphabet\n",
    "test_2.alpha_permutation()\n",
    "# printing the obtained permutation of the alphabet\n",
    "print(test_2.new_alphabet)"
   ]
  },
  {
   "cell_type": "code",
   "execution_count": 10,
   "id": "9b0171c3",
   "metadata": {},
   "outputs": [
    {
     "name": "stdout",
     "output_type": "stream",
     "text": [
      "Sbei ei o skis!\n",
      "Sbifxrv Mfvqbc wiv Frmfqbc fxr Sucivqfxzm...\n"
     ]
    }
   ],
   "source": [
    "# encryption\n",
    "e1 = test_2.encrypt(t1, 5)\n",
    "print(e1)\n",
    "e2 = test_2.encrypt(t2, 24)\n",
    "print(e2)"
   ]
  },
  {
   "cell_type": "code",
   "execution_count": 11,
   "id": "5f52880d",
   "metadata": {},
   "outputs": [
    {
     "name": "stdout",
     "output_type": "stream",
     "text": [
      "This is a test!\n",
      "Another String for Testing the Algorithms...\n"
     ]
    }
   ],
   "source": [
    "# decryption\n",
    "d1 = test_2.decrypt(e1, 5)\n",
    "print(d1)\n",
    "d2 = test_2.decrypt(e2, 24)\n",
    "print(d2)"
   ]
  },
  {
   "cell_type": "markdown",
   "id": "1b080bc0",
   "metadata": {},
   "source": [
    "### Vigenere cipher"
   ]
  },
  {
   "cell_type": "markdown",
   "id": "ca7d5e5b",
   "metadata": {},
   "source": [
    "### Playfair cipher"
   ]
  }
 ],
 "metadata": {
  "kernelspec": {
   "display_name": "Python 3 (ipykernel)",
   "language": "python",
   "name": "python3"
  },
  "language_info": {
   "codemirror_mode": {
    "name": "ipython",
    "version": 3
   },
   "file_extension": ".py",
   "mimetype": "text/x-python",
   "name": "python",
   "nbconvert_exporter": "python",
   "pygments_lexer": "ipython3",
   "version": "3.8.0"
  }
 },
 "nbformat": 4,
 "nbformat_minor": 5
}
